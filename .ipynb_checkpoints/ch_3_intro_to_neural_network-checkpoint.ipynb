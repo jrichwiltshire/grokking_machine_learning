{
 "cells": [
  {
   "cell_type": "markdown",
   "id": "e2065923-0955-4977-a86e-b6c2163a7fc7",
   "metadata": {},
   "source": [
    "# Simple Neural Network"
   ]
  },
  {
   "cell_type": "code",
   "execution_count": 1,
   "id": "c4c8842c-58a9-4e64-b48a-e348df95cfbd",
   "metadata": {},
   "outputs": [],
   "source": [
    "weight = 0.1"
   ]
  },
  {
   "cell_type": "code",
   "execution_count": 2,
   "id": "c31e6703-9302-4ed0-b227-81c9af2d4acf",
   "metadata": {},
   "outputs": [],
   "source": [
    "def neural_network(input, weight):\n",
    "    prediction = input * weight\n",
    "    return prediction"
   ]
  },
  {
   "cell_type": "code",
   "execution_count": 3,
   "id": "763af00f-57ac-4450-903f-f3fbecfe8181",
   "metadata": {},
   "outputs": [
    {
     "data": {
      "text/plain": [
       "0.8500000000000001"
      ]
     },
     "execution_count": 3,
     "metadata": {},
     "output_type": "execute_result"
    }
   ],
   "source": [
    "toes = [8.5, 9.5, 10, 9]\n",
    "input = toes[0]\n",
    "pred = neural_network(input, weight)\n",
    "pred"
   ]
  },
  {
   "cell_type": "code",
   "execution_count": null,
   "id": "e7b49bc2-109e-4ea0-be63-374bee9fe935",
   "metadata": {},
   "outputs": [],
   "source": []
  }
 ],
 "metadata": {
  "kernelspec": {
   "display_name": "Python 3 (ipykernel)",
   "language": "python",
   "name": "python3"
  },
  "language_info": {
   "codemirror_mode": {
    "name": "ipython",
    "version": 3
   },
   "file_extension": ".py",
   "mimetype": "text/x-python",
   "name": "python",
   "nbconvert_exporter": "python",
   "pygments_lexer": "ipython3",
   "version": "3.9.7"
  }
 },
 "nbformat": 4,
 "nbformat_minor": 5
}
