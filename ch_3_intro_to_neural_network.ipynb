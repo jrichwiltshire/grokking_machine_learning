{
 "cells": [
  {
   "cell_type": "markdown",
   "id": "e2065923-0955-4977-a86e-b6c2163a7fc7",
   "metadata": {},
   "source": [
    "# Simple Neural Network"
   ]
  },
  {
   "cell_type": "code",
   "execution_count": 1,
   "id": "c4c8842c-58a9-4e64-b48a-e348df95cfbd",
   "metadata": {},
   "outputs": [],
   "source": [
    "weight = 0.1"
   ]
  },
  {
   "cell_type": "code",
   "execution_count": 2,
   "id": "c31e6703-9302-4ed0-b227-81c9af2d4acf",
   "metadata": {},
   "outputs": [],
   "source": [
    "def neural_network(input, weight):\n",
    "    prediction = input * weight\n",
    "    return prediction"
   ]
  },
  {
   "cell_type": "code",
   "execution_count": 3,
   "id": "763af00f-57ac-4450-903f-f3fbecfe8181",
   "metadata": {},
   "outputs": [
    {
     "data": {
      "text/plain": [
       "0.8500000000000001"
      ]
     },
     "execution_count": 3,
     "metadata": {},
     "output_type": "execute_result"
    }
   ],
   "source": [
    "toes = [8.5, 9.5, 10, 9]\n",
    "input = toes[0]\n",
    "pred = neural_network(input, weight)\n",
    "pred"
   ]
  },
  {
   "cell_type": "markdown",
   "id": "4e1aae11-58ab-4d60-8471-47c5da42392a",
   "metadata": {},
   "source": [
    "# Multiple Inputs Neural Network"
   ]
  },
  {
   "cell_type": "code",
   "execution_count": 4,
   "id": "81c88c50-5488-499e-b902-d6d13e844b21",
   "metadata": {},
   "outputs": [],
   "source": [
    "def w_sum(a,b):\n",
    "    assert(len(a) == len(b))\n",
    "    output = 0\n",
    "    for i in range(len(a)):\n",
    "        output += (a[i] * b[i])\n",
    "        \n",
    "    return output"
   ]
  },
  {
   "cell_type": "code",
   "execution_count": 5,
   "id": "141515b7",
   "metadata": {},
   "outputs": [],
   "source": [
    "def neural_network(input, weights):\n",
    "    pred = w_sum(input, weights)\n",
    "    return pred"
   ]
  },
  {
   "cell_type": "code",
   "execution_count": 6,
   "id": "5599c846",
   "metadata": {},
   "outputs": [],
   "source": [
    "toes = [8.5, 9.5, 9.9, 9.0]\n",
    "wlrec = [0.65, 0.8, 0.8, 0.9]\n",
    "nfans = [1.2, 1.3, 0.5, 1.0]"
   ]
  },
  {
   "cell_type": "code",
   "execution_count": 7,
   "id": "13f5d3b4",
   "metadata": {},
   "outputs": [],
   "source": [
    "input = [toes[0], wlrec[0], nfans[0]]"
   ]
  },
  {
   "cell_type": "code",
   "execution_count": 8,
   "id": "2326dc4c",
   "metadata": {},
   "outputs": [],
   "source": [
    "weights = [0.1, 0.2, 0]"
   ]
  },
  {
   "cell_type": "code",
   "execution_count": 9,
   "id": "6747e24f",
   "metadata": {
    "scrolled": true
   },
   "outputs": [],
   "source": [
    "pred = neural_network(input, weights)"
   ]
  },
  {
   "cell_type": "code",
   "execution_count": 10,
   "id": "e1a8c578",
   "metadata": {},
   "outputs": [
    {
     "data": {
      "text/plain": [
       "0.9800000000000001"
      ]
     },
     "execution_count": 10,
     "metadata": {},
     "output_type": "execute_result"
    }
   ],
   "source": [
    "pred"
   ]
  },
  {
   "cell_type": "markdown",
   "id": "a8ace367",
   "metadata": {},
   "source": [
    "## Multiple Inputs: NumPy version"
   ]
  },
  {
   "cell_type": "code",
   "execution_count": 11,
   "id": "0c363704",
   "metadata": {},
   "outputs": [],
   "source": [
    "from __future__ import print_function, division\n",
    "import numpy as np"
   ]
  },
  {
   "cell_type": "code",
   "execution_count": 12,
   "id": "fe5f83cc",
   "metadata": {},
   "outputs": [],
   "source": [
    "weights = np.array([0.1, 0.2, 0])"
   ]
  },
  {
   "cell_type": "code",
   "execution_count": 13,
   "id": "4e603f4e",
   "metadata": {},
   "outputs": [],
   "source": [
    "def neural_network(input, weights):\n",
    "    pred = input.dot(weights)\n",
    "    return pred"
   ]
  },
  {
   "cell_type": "code",
   "execution_count": 14,
   "id": "ebdbbd83",
   "metadata": {},
   "outputs": [],
   "source": [
    "toes = np.array([8.5, 9.5, 9.9, 9.0])\n",
    "wlrec = np.array([0.65, 0.8, 0.8, 0.9])\n",
    "nfans = np.array([1.2, 1.3, 0.5, 1.0])"
   ]
  },
  {
   "cell_type": "code",
   "execution_count": 15,
   "id": "0c846f35",
   "metadata": {},
   "outputs": [],
   "source": [
    "input = np.array([toes[0], wlrec[0], nfans[0]])"
   ]
  },
  {
   "cell_type": "code",
   "execution_count": 16,
   "id": "bb8209ad",
   "metadata": {},
   "outputs": [],
   "source": [
    "pred = neural_network(input, weights)"
   ]
  },
  {
   "cell_type": "code",
   "execution_count": 17,
   "id": "6c982759",
   "metadata": {},
   "outputs": [
    {
     "data": {
      "text/plain": [
       "0.9800000000000001"
      ]
     },
     "execution_count": 17,
     "metadata": {},
     "output_type": "execute_result"
    }
   ],
   "source": [
    "pred"
   ]
  },
  {
   "cell_type": "markdown",
   "id": "f0f286e9",
   "metadata": {},
   "source": [
    "# Making a prediction with multiple outputs"
   ]
  },
  {
   "cell_type": "code",
   "execution_count": 18,
   "id": "6892d803",
   "metadata": {},
   "outputs": [],
   "source": [
    "weights = [0.3, 0.2, 0.9]"
   ]
  },
  {
   "cell_type": "code",
   "execution_count": 19,
   "id": "8f26e052",
   "metadata": {},
   "outputs": [],
   "source": [
    "def ele_mul(number, vector):\n",
    "    output = [0, 0, 0]\n",
    "    assert(len(output) == len(vector))\n",
    "    \n",
    "    for i in range(len(vector)):\n",
    "        output[i] = number * vector[i]\n",
    "        \n",
    "    return output"
   ]
  },
  {
   "cell_type": "code",
   "execution_count": 20,
   "id": "227b6f3d",
   "metadata": {},
   "outputs": [],
   "source": [
    "def neural_network(input, weights):\n",
    "    pred = ele_mul(input, weights)\n",
    "    return pred"
   ]
  },
  {
   "cell_type": "code",
   "execution_count": 21,
   "id": "0c2f1645",
   "metadata": {},
   "outputs": [],
   "source": [
    "wlrec = [0.65, 0.8, 0.8, 0.9]"
   ]
  },
  {
   "cell_type": "code",
   "execution_count": 22,
   "id": "7ca4505e",
   "metadata": {},
   "outputs": [],
   "source": [
    "input = wlrec[0]"
   ]
  },
  {
   "cell_type": "code",
   "execution_count": 23,
   "id": "49498a65",
   "metadata": {},
   "outputs": [],
   "source": [
    "pred = neural_network(input, weights)"
   ]
  },
  {
   "cell_type": "code",
   "execution_count": 24,
   "id": "3f4da8a4",
   "metadata": {},
   "outputs": [
    {
     "data": {
      "text/plain": [
       "[0.195, 0.13, 0.5850000000000001]"
      ]
     },
     "execution_count": 24,
     "metadata": {},
     "output_type": "execute_result"
    }
   ],
   "source": [
    "pred"
   ]
  },
  {
   "cell_type": "markdown",
   "id": "5cfc3ba8",
   "metadata": {},
   "source": [
    "# Predicting with multiple inputs and outputs"
   ]
  },
  {
   "cell_type": "code",
   "execution_count": 25,
   "id": "4b921da8",
   "metadata": {},
   "outputs": [],
   "source": [
    "def w_sum(a,b):\n",
    "    assert(len(a) == len(b))\n",
    "    output = 0\n",
    "    for i in range(len(a)):\n",
    "        output += (a[i] * b[i])\n",
    "        \n",
    "    return output"
   ]
  },
  {
   "cell_type": "code",
   "execution_count": 26,
   "id": "7256d7d7",
   "metadata": {},
   "outputs": [],
   "source": [
    "def vect_mat_mul (vect, matrix):\n",
    "    assert(len(vect) == len(matrix))\n",
    "    output = [0,0,0]\n",
    "    \n",
    "    for i in range(len(vect)):\n",
    "        output[i] = w_sum(vect, matrix[i])\n",
    "        \n",
    "    return output"
   ]
  },
  {
   "cell_type": "code",
   "execution_count": 27,
   "id": "c6194895",
   "metadata": {},
   "outputs": [],
   "source": [
    "def neural_network(input, weights):\n",
    "    pred = vect_mat_mul(input,weights)\n",
    "    return pred"
   ]
  },
  {
   "cell_type": "code",
   "execution_count": 28,
   "id": "99119ad9",
   "metadata": {},
   "outputs": [],
   "source": [
    "weights = [[0.1, 0.1, -0.3],# hurt?\n",
    "           [0.1, 0.2, 0.0], # win?\n",
    "           [0.0, 1.3, 0.1]] # sad?"
   ]
  },
  {
   "cell_type": "code",
   "execution_count": 29,
   "id": "312eb447",
   "metadata": {},
   "outputs": [],
   "source": [
    "toes = np.array([8.5, 9.5, 9.9, 9.0])\n",
    "wlrec = np.array([0.65, 0.8, 0.8, 0.9])\n",
    "nfans = np.array([1.2, 1.3, 0.5, 1.0])"
   ]
  },
  {
   "cell_type": "code",
   "execution_count": 30,
   "id": "28c6675f",
   "metadata": {},
   "outputs": [],
   "source": [
    "input = [toes[0], wlrec[0], nfans[0]]"
   ]
  },
  {
   "cell_type": "code",
   "execution_count": 31,
   "id": "63022b2a",
   "metadata": {},
   "outputs": [],
   "source": [
    "pred = neural_network(input, weights)"
   ]
  },
  {
   "cell_type": "code",
   "execution_count": 32,
   "id": "a889c893",
   "metadata": {},
   "outputs": [
    {
     "data": {
      "text/plain": [
       "[0.555, 0.9800000000000001, 0.9650000000000001]"
      ]
     },
     "execution_count": 32,
     "metadata": {},
     "output_type": "execute_result"
    }
   ],
   "source": [
    "pred"
   ]
  },
  {
   "cell_type": "markdown",
   "id": "0ed147b2",
   "metadata": {},
   "source": [
    "# Predictions on predictions"
   ]
  },
  {
   "cell_type": "code",
   "execution_count": 33,
   "id": "ce65d903",
   "metadata": {},
   "outputs": [],
   "source": [
    "        # toes % win # fans\n",
    "ih_wgt = [[0.1, 0.2, -0.1], # hid[0]\n",
    "          [-0.1, 0.1, 0.9], # hid[1]\n",
    "          [0.1, 0.4, 0.1]] # hid[2]\n",
    "\n",
    "        #hid[0] #hid[1] #hid[2]\n",
    "hp_wgt = [[0.3, 1.1, -0.3], # hurt?\n",
    "          [0.1, 0.2, 0.0], # win?\n",
    "          [0.0, 1.3, 0.1]] # sad?\n",
    "\n",
    "weights = [ih_wgt, hp_wgt]"
   ]
  },
  {
   "cell_type": "code",
   "execution_count": 34,
   "id": "b6681844",
   "metadata": {},
   "outputs": [],
   "source": [
    "def neural_network(input, weights):\n",
    "    hid = vect_mat_mul(input, weights[0])\n",
    "    pred = vect_mat_mul(hid, weights[1])\n",
    "    return pred"
   ]
  },
  {
   "cell_type": "code",
   "execution_count": 35,
   "id": "554234d2",
   "metadata": {},
   "outputs": [],
   "source": [
    "toes = [8.5, 9.5, 9.9, 9.0]\n",
    "wlrec = [0.65, 0.8, 0.8, 0.9]\n",
    "nfans = [1.2, 1.3, 0.5, 1.0]"
   ]
  },
  {
   "cell_type": "code",
   "execution_count": 36,
   "id": "44f2a4db",
   "metadata": {},
   "outputs": [],
   "source": [
    "input = [toes[0], wlrec[0], nfans[0]]"
   ]
  },
  {
   "cell_type": "code",
   "execution_count": 37,
   "id": "2a31aeb7",
   "metadata": {},
   "outputs": [
    {
     "data": {
      "text/plain": [
       "[0.21350000000000002, 0.14500000000000002, 0.5065]"
      ]
     },
     "execution_count": 37,
     "metadata": {},
     "output_type": "execute_result"
    }
   ],
   "source": [
    "pred = neural_network(input, weights)\n",
    "pred"
   ]
  },
  {
   "cell_type": "markdown",
   "id": "ebd1976b",
   "metadata": {},
   "source": [
    "## Numpy version"
   ]
  },
  {
   "cell_type": "code",
   "execution_count": 38,
   "id": "84e82395",
   "metadata": {},
   "outputs": [],
   "source": [
    "# toes % win # fans\n",
    "ih_wgt = np.array([\n",
    "    [0.1, 0.2, -0.1], # hid[0]\n",
    "    [-0.1, 0.1, 0.9], # hid[1]\n",
    "    [0.1, 0.4, 0.1]\n",
    "]).T # hid[2]\n",
    "\n",
    "# hid[0] hid[1] hid[2]\n",
    "hp_wgt = np.array([\n",
    "    [0.3, 1.1, -0.3], # hurt?\n",
    "    [0.1, 0.2, 0.0], # win?\n",
    "    [0.0, 1.3, 0.1]\n",
    "]).T # sad?"
   ]
  },
  {
   "cell_type": "code",
   "execution_count": 39,
   "id": "783b8da7",
   "metadata": {},
   "outputs": [],
   "source": [
    "weights = [ih_wgt, hp_wgt]"
   ]
  },
  {
   "cell_type": "code",
   "execution_count": 40,
   "id": "903f919e",
   "metadata": {},
   "outputs": [],
   "source": [
    "def neural_network(input, weights):\n",
    "    hid = input.dot(weights[0])\n",
    "    pred = hid.dot(weights[1])\n",
    "    return pred"
   ]
  },
  {
   "cell_type": "code",
   "execution_count": 41,
   "id": "871b60a1",
   "metadata": {},
   "outputs": [],
   "source": [
    "toes = np.array([8.5, 9.5, 9.9, 9.0])\n",
    "wlrec = np.array([0.65, 0.8, 0.8, 0.9])\n",
    "nfans = np.array([1.2, 1.3, 0.5, 1.0])"
   ]
  },
  {
   "cell_type": "code",
   "execution_count": 42,
   "id": "f0e79f45",
   "metadata": {},
   "outputs": [],
   "source": [
    "input = np.array([toes[0], wlrec[0], nfans[0]])"
   ]
  },
  {
   "cell_type": "code",
   "execution_count": 43,
   "id": "c7745b73",
   "metadata": {},
   "outputs": [
    {
     "data": {
      "text/plain": [
       "array([0.2135, 0.145 , 0.5065])"
      ]
     },
     "execution_count": 43,
     "metadata": {},
     "output_type": "execute_result"
    }
   ],
   "source": [
    "pred = neural_network(input,weights)\n",
    "pred"
   ]
  },
  {
   "cell_type": "markdown",
   "id": "20208880",
   "metadata": {},
   "source": [
    "## Numpy Practice"
   ]
  },
  {
   "cell_type": "code",
   "execution_count": 44,
   "id": "4d8cea1c",
   "metadata": {},
   "outputs": [],
   "source": [
    "from __future__ import print_function, division\n",
    "import numpy as np"
   ]
  },
  {
   "cell_type": "code",
   "execution_count": 46,
   "id": "c2f637ba",
   "metadata": {},
   "outputs": [],
   "source": [
    "a = np.array([0,1,2,3])\n",
    "b = np.array([4,5,6,7])\n",
    "c = np.array([[0,1,2,3],\n",
    "             [4,5,6,7]])\n",
    "d = np.zeros((2,4))\n",
    "e = np.random.rand(2,5)"
   ]
  },
  {
   "cell_type": "code",
   "execution_count": 48,
   "id": "2aaf7344",
   "metadata": {},
   "outputs": [
    {
     "name": "stdout",
     "output_type": "stream",
     "text": [
      "[0 1 2 3]\n",
      "[4 5 6 7]\n",
      "[[0 1 2 3]\n",
      " [4 5 6 7]]\n",
      "[[0. 0. 0. 0.]\n",
      " [0. 0. 0. 0.]]\n",
      "[[0.09850366 0.72176451 0.92610601 0.70216946 0.41543008]\n",
      " [0.15756831 0.88121267 0.52647889 0.96894768 0.16451336]]\n"
     ]
    }
   ],
   "source": [
    "print(a)\n",
    "print(b)\n",
    "print(c)\n",
    "print(d)\n",
    "print(e)"
   ]
  },
  {
   "cell_type": "code",
   "execution_count": 49,
   "id": "a2439768",
   "metadata": {},
   "outputs": [
    {
     "name": "stdout",
     "output_type": "stream",
     "text": [
      "[0.  0.1 0.2 0.3]\n",
      "[[0.  0.2 0.4 0.6]\n",
      " [0.8 1.  1.2 1.4]]\n",
      "[ 0  5 12 21]\n",
      "[0.  1.  2.4 4.2]\n",
      "[[ 0  1  4  9]\n",
      " [ 0  5 12 21]]\n"
     ]
    },
    {
     "ename": "ValueError",
     "evalue": "operands could not be broadcast together with shapes (4,) (2,5) ",
     "output_type": "error",
     "traceback": [
      "\u001b[0;31m---------------------------------------------------------------------------\u001b[0m",
      "\u001b[0;31mValueError\u001b[0m                                Traceback (most recent call last)",
      "\u001b[0;32m/tmp/ipykernel_1918/3220465210.py\u001b[0m in \u001b[0;36m<module>\u001b[0;34m\u001b[0m\n\u001b[1;32m      4\u001b[0m \u001b[0mprint\u001b[0m\u001b[0;34m(\u001b[0m\u001b[0ma\u001b[0m \u001b[0;34m*\u001b[0m \u001b[0mb\u001b[0m \u001b[0;34m*\u001b[0m \u001b[0;36m0.2\u001b[0m\u001b[0;34m)\u001b[0m\u001b[0;34m\u001b[0m\u001b[0;34m\u001b[0m\u001b[0m\n\u001b[1;32m      5\u001b[0m \u001b[0mprint\u001b[0m\u001b[0;34m(\u001b[0m\u001b[0ma\u001b[0m \u001b[0;34m*\u001b[0m \u001b[0mc\u001b[0m\u001b[0;34m)\u001b[0m\u001b[0;34m\u001b[0m\u001b[0;34m\u001b[0m\u001b[0m\n\u001b[0;32m----> 6\u001b[0;31m \u001b[0mprint\u001b[0m\u001b[0;34m(\u001b[0m\u001b[0ma\u001b[0m \u001b[0;34m*\u001b[0m \u001b[0me\u001b[0m\u001b[0;34m)\u001b[0m\u001b[0;34m\u001b[0m\u001b[0;34m\u001b[0m\u001b[0m\n\u001b[0m",
      "\u001b[0;31mValueError\u001b[0m: operands could not be broadcast together with shapes (4,) (2,5) "
     ]
    }
   ],
   "source": [
    "print(a * 0.1)\n",
    "print(c * 0.2)\n",
    "print(a * b)\n",
    "print(a * b * 0.2)\n",
    "print(a * c)\n",
    "print(a * e)"
   ]
  },
  {
   "cell_type": "code",
   "execution_count": 50,
   "id": "f41c8b45",
   "metadata": {},
   "outputs": [],
   "source": [
    "a = np.zeros((1,4))\n",
    "b = np.zeros((4,3))"
   ]
  },
  {
   "cell_type": "code",
   "execution_count": 51,
   "id": "1cb6906b",
   "metadata": {},
   "outputs": [
    {
     "data": {
      "text/plain": [
       "(1, 3)"
      ]
     },
     "execution_count": 51,
     "metadata": {},
     "output_type": "execute_result"
    }
   ],
   "source": [
    "c = a.dot(b)\n",
    "c.shape"
   ]
  },
  {
   "cell_type": "code",
   "execution_count": 52,
   "id": "bf53e74a",
   "metadata": {},
   "outputs": [],
   "source": [
    "a = np.zeros((2,4))\n",
    "b = np.zeros((4,3))"
   ]
  },
  {
   "cell_type": "code",
   "execution_count": 53,
   "id": "5b79fbbf",
   "metadata": {},
   "outputs": [
    {
     "data": {
      "text/plain": [
       "(2, 3)"
      ]
     },
     "execution_count": 53,
     "metadata": {},
     "output_type": "execute_result"
    }
   ],
   "source": [
    "c = a.dot(b)\n",
    "c.shape"
   ]
  },
  {
   "cell_type": "code",
   "execution_count": 54,
   "id": "8752a271",
   "metadata": {},
   "outputs": [],
   "source": [
    "e = np.zeros((2,1))\n",
    "f = np.zeros((1,3))"
   ]
  },
  {
   "cell_type": "code",
   "execution_count": 55,
   "id": "1990e8f6",
   "metadata": {},
   "outputs": [
    {
     "data": {
      "text/plain": [
       "(2, 3)"
      ]
     },
     "execution_count": 55,
     "metadata": {},
     "output_type": "execute_result"
    }
   ],
   "source": [
    "g = e.dot(f)\n",
    "g.shape"
   ]
  },
  {
   "cell_type": "code",
   "execution_count": 56,
   "id": "889b8cad",
   "metadata": {},
   "outputs": [],
   "source": [
    "h = np.zeros((5,4)).T\n",
    "i = np.zeros((5,6))"
   ]
  },
  {
   "cell_type": "code",
   "execution_count": 57,
   "id": "765235fe",
   "metadata": {},
   "outputs": [
    {
     "data": {
      "text/plain": [
       "(4, 6)"
      ]
     },
     "execution_count": 57,
     "metadata": {},
     "output_type": "execute_result"
    }
   ],
   "source": [
    "j = h.dot(i)\n",
    "j.shape"
   ]
  },
  {
   "cell_type": "code",
   "execution_count": 58,
   "id": "2147c366",
   "metadata": {},
   "outputs": [],
   "source": [
    "h = np.zeros((5,4))\n",
    "i = np.zeros((5,6))"
   ]
  },
  {
   "cell_type": "code",
   "execution_count": 59,
   "id": "f98aec86",
   "metadata": {},
   "outputs": [
    {
     "ename": "ValueError",
     "evalue": "shapes (5,4) and (5,6) not aligned: 4 (dim 1) != 5 (dim 0)",
     "output_type": "error",
     "traceback": [
      "\u001b[0;31m---------------------------------------------------------------------------\u001b[0m",
      "\u001b[0;31mValueError\u001b[0m                                Traceback (most recent call last)",
      "\u001b[0;32m/tmp/ipykernel_1918/706124252.py\u001b[0m in \u001b[0;36m<module>\u001b[0;34m\u001b[0m\n\u001b[0;32m----> 1\u001b[0;31m \u001b[0mj\u001b[0m \u001b[0;34m=\u001b[0m \u001b[0mh\u001b[0m\u001b[0;34m.\u001b[0m\u001b[0mdot\u001b[0m\u001b[0;34m(\u001b[0m\u001b[0mi\u001b[0m\u001b[0;34m)\u001b[0m\u001b[0;34m\u001b[0m\u001b[0;34m\u001b[0m\u001b[0m\n\u001b[0m\u001b[1;32m      2\u001b[0m \u001b[0mj\u001b[0m\u001b[0;34m.\u001b[0m\u001b[0mshape\u001b[0m\u001b[0;34m\u001b[0m\u001b[0;34m\u001b[0m\u001b[0m\n",
      "\u001b[0;31mValueError\u001b[0m: shapes (5,4) and (5,6) not aligned: 4 (dim 1) != 5 (dim 0)"
     ]
    }
   ],
   "source": [
    "j = h.dot(i)\n",
    "j.shape"
   ]
  },
  {
   "cell_type": "code",
   "execution_count": null,
   "id": "108a58bd",
   "metadata": {},
   "outputs": [],
   "source": []
  }
 ],
 "metadata": {
  "hide_input": false,
  "kernelspec": {
   "display_name": "Python 3 (ipykernel)",
   "language": "python",
   "name": "python3"
  },
  "language_info": {
   "codemirror_mode": {
    "name": "ipython",
    "version": 3
   },
   "file_extension": ".py",
   "mimetype": "text/x-python",
   "name": "python",
   "nbconvert_exporter": "python",
   "pygments_lexer": "ipython3",
   "version": "3.9.7"
  },
  "toc": {
   "base_numbering": 1,
   "nav_menu": {},
   "number_sections": true,
   "sideBar": true,
   "skip_h1_title": false,
   "title_cell": "Table of Contents",
   "title_sidebar": "Contents",
   "toc_cell": false,
   "toc_position": {},
   "toc_section_display": true,
   "toc_window_display": false
  },
  "varInspector": {
   "cols": {
    "lenName": 16,
    "lenType": 16,
    "lenVar": 40
   },
   "kernels_config": {
    "python": {
     "delete_cmd_postfix": "",
     "delete_cmd_prefix": "del ",
     "library": "var_list.py",
     "varRefreshCmd": "print(var_dic_list())"
    },
    "r": {
     "delete_cmd_postfix": ") ",
     "delete_cmd_prefix": "rm(",
     "library": "var_list.r",
     "varRefreshCmd": "cat(var_dic_list()) "
    }
   },
   "types_to_exclude": [
    "module",
    "function",
    "builtin_function_or_method",
    "instance",
    "_Feature"
   ],
   "window_display": false
  }
 },
 "nbformat": 4,
 "nbformat_minor": 5
}
